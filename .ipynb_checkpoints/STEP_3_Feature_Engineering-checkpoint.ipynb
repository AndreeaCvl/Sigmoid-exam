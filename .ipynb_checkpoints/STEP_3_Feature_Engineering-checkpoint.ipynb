{
 "cells": [
  {
   "cell_type": "markdown",
   "id": "134503bf",
   "metadata": {},
   "source": [
    "# Feature Engineering"
   ]
  },
  {
   "cell_type": "code",
   "execution_count": 19,
   "id": "f403fea0",
   "metadata": {},
   "outputs": [],
   "source": [
    "# important imports\n",
    "import seaborn as sns\n",
    "import pandas as pd\n",
    "import numpy as np\n",
    "from sklearn.model_selection import train_test_split\n",
    "from sklearn.linear_model import LinearRegression\n",
    "from sklearn.metrics import mean_squared_error, mean_absolute_error, r2_score"
   ]
  },
  {
   "cell_type": "code",
   "execution_count": 20,
   "id": "4956809c",
   "metadata": {},
   "outputs": [],
   "source": [
    "# function to compute the model score. Using linear Regression model score as a comparison metrics to be sure I don't \n",
    "# remove too much data\n",
    "def accuracy(df):\n",
    "    \n",
    "    # seprate the target from the rest of the columns\n",
    "    X = df.drop(['Life expectancy'], axis=1).values\n",
    "    y = df['Life expectancy'].values\n",
    "    \n",
    "    X_train, X_test, y_train, y_test = train_test_split(X, y, random_state = 42)\n",
    "    \n",
    "    # fitting ang applying a linear regression model on the data\n",
    "    lr = LinearRegression()\n",
    "    lr.fit(X_train, y_train)    \n",
    "    y_pred= lr.predict(X_test)\n",
    "    \n",
    "    # printing the errors to compare the results\n",
    "    mae_sklearn = mean_absolute_error(y_pred, y_test)\n",
    "    mse_sklearn = mean_squared_error(y_pred, y_test)\n",
    "    \n",
    "    # print errors\n",
    "    print(\"mean absolute error: {}\".format(mae_sklearn))\n",
    "    print(\"mean squared error: {}\".format(mse_sklearn))\n",
    "    \n",
    "    # model score\n",
    "    score = r2_score(y_test, y_pred)\n",
    "    print(\"model score: {}\".format(score))"
   ]
  },
  {
   "cell_type": "code",
   "execution_count": 21,
   "id": "65281079",
   "metadata": {},
   "outputs": [],
   "source": [
    "# import dataset\n",
    "df = pd.read_csv('data2.csv')"
   ]
  },
  {
   "cell_type": "code",
   "execution_count": 22,
   "id": "26402d04",
   "metadata": {
    "scrolled": false
   },
   "outputs": [
    {
     "data": {
      "text/plain": [
       "<seaborn.axisgrid.FacetGrid at 0x2894e96bf10>"
      ]
     },
     "execution_count": 22,
     "metadata": {},
     "output_type": "execute_result"
    },
    {
     "data": {
      "image/png": "[encoded data removed]",
      "text/plain": [
       "<Figure size 360x360 with 1 Axes>"
      ]
     },
     "metadata": {
      "needs_background": "light"
     },
     "output_type": "display_data"
    }
   ],
   "source": [
    "# plotting thhe distribution of data\n",
    "sns.displot(df, x = \"Life expectancy\", kind = 'kde')"
   ]
  },
  {
   "cell_type": "markdown",
   "id": "e37cdef8",
   "metadata": {},
   "source": [
    "The data is close to a normal distribution."
   ]
  },
  {
   "cell_type": "markdown",
   "id": "34606469",
   "metadata": {},
   "source": [
    "Standardization is usually used on data which is normally distributed, but I will try to compare the results after normalization and after stndardization, to choose the most suitable method."
   ]
  },
  {
   "cell_type": "markdown",
   "id": "ea7dd344",
   "metadata": {},
   "source": [
    "## Normalization"
   ]
  },
  {
   "cell_type": "markdown",
   "id": "429405c0",
   "metadata": {},
   "source": [
    "### Imperio BoxCoxTransformer"
   ]
  },
  {
   "cell_type": "code",
   "execution_count": 23,
   "id": "8a7e60fa",
   "metadata": {},
   "outputs": [],
   "source": [
    "# creating an instance of BoxCoxTransformer for normalizing the data\n",
    "from imperio import BoxCoxTransformer\n",
    "box_cox = BoxCoxTransformer()"
   ]
  },
  {
   "cell_type": "code",
   "execution_count": 24,
   "id": "90989bfa",
   "metadata": {},
   "outputs": [],
   "source": [
    "# creting a \n",
    "df_box_cox = box_cox.apply(df, target = 'Life expectancy')"
   ]
  },
  {
   "cell_type": "code",
   "execution_count": 25,
   "id": "756dd078",
   "metadata": {},
   "outputs": [
    {
     "name": "stdout",
     "output_type": "stream",
     "text": [
      "mean absolute error: 2.6903341326300816\n",
      "mean squared error: 12.65256823949009\n",
      "model score: 0.8228858517109944\n"
     ]
    }
   ],
   "source": [
    "# getting the score for initial ds\n",
    "accuracy(df)"
   ]
  },
  {
   "cell_type": "code",
   "execution_count": 26,
   "id": "29ff7c01",
   "metadata": {
    "scrolled": true
   },
   "outputs": [
    {
     "name": "stdout",
     "output_type": "stream",
     "text": [
      "mean absolute error: 2.7162388260899823\n",
      "mean squared error: 12.943164151764462\n",
      "model score: 0.8188180097895336\n"
     ]
    }
   ],
   "source": [
    "# getting the scores after applying BoxCoxTransformer\n",
    "accuracy(df_box_cox)"
   ]
  },
  {
   "cell_type": "markdown",
   "id": "3e890822",
   "metadata": {},
   "source": [
    "The errors and the score unsignificantly smaller. But I would like to try a classical normalization method from skearn to compare the results."
   ]
  },
  {
   "cell_type": "markdown",
   "id": "3b439c0f",
   "metadata": {},
   "source": [
    "### sklearn MinMaxScaler"
   ]
  },
  {
   "cell_type": "code",
   "execution_count": 27,
   "id": "a1824f6e",
   "metadata": {},
   "outputs": [],
   "source": [
    "# creating an instance of MinMaxScaler for normalizing the data\n",
    "from sklearn.preprocessing import MinMaxScaler\n",
    "min_max = MinMaxScaler()"
   ]
  },
  {
   "cell_type": "code",
   "execution_count": 28,
   "id": "caa21f9f",
   "metadata": {},
   "outputs": [],
   "source": [
    "# separating the target column from te whole dataset\n",
    "X = df.drop(['Life expectancy'], axis=1)\n",
    "y = df['Life expectancy'].values"
   ]
  },
  {
   "cell_type": "code",
   "execution_count": 29,
   "id": "1e285907",
   "metadata": {},
   "outputs": [],
   "source": [
    "# applying the MinMaxScaler on the dataset\n",
    "X_transformed = min_max.fit_transform(X)\n",
    "df_min_max = pd.DataFrame(X_transformed, columns = X.columns)"
   ]
  },
  {
   "cell_type": "code",
   "execution_count": 30,
   "id": "63dc3c82",
   "metadata": {},
   "outputs": [],
   "source": [
    "# adding the target column back to the dataset\n",
    "df_min_max['Life expectancy'] = y"
   ]
  },
  {
   "cell_type": "code",
   "execution_count": 31,
   "id": "89087621",
   "metadata": {},
   "outputs": [
    {
     "name": "stdout",
     "output_type": "stream",
     "text": [
      "mean absolute error: 2.690334132629529\n",
      "mean squared error: 12.652568239480685\n",
      "model score: 0.822885851711126\n"
     ]
    }
   ],
   "source": [
    "# getting the scores after applying MinMaxScaler\n",
    "accuracy(df_min_max)"
   ]
  },
  {
   "cell_type": "markdown",
   "id": "d1f36ddb",
   "metadata": {},
   "source": [
    "## Standardization"
   ]
  },
  {
   "cell_type": "markdown",
   "id": "184241ee",
   "metadata": {},
   "source": [
    "### sklearn StandardScaler"
   ]
  },
  {
   "cell_type": "code",
   "execution_count": 32,
   "id": "0394856c",
   "metadata": {},
   "outputs": [],
   "source": [
    "from sklearn.preprocessing import StandardScaler\n",
    "std = StandardScaler()"
   ]
  },
  {
   "cell_type": "code",
   "execution_count": 33,
   "id": "f5bcac2f",
   "metadata": {},
   "outputs": [],
   "source": [
    "X_scaled = std.fit_transform(X)\n",
    "df_std = pd.DataFrame(X_scaled, columns = X.columns)"
   ]
  },
  {
   "cell_type": "code",
   "execution_count": 34,
   "id": "27f432fc",
   "metadata": {},
   "outputs": [],
   "source": [
    "# adding the target column back to the dataset\n",
    "df_std['Life expectancy'] = y"
   ]
  },
  {
   "cell_type": "code",
   "execution_count": 35,
   "id": "c290da34",
   "metadata": {
    "scrolled": true
   },
   "outputs": [
    {
     "name": "stdout",
     "output_type": "stream",
     "text": [
      "mean absolute error: 2.690334132629527\n",
      "mean squared error: 12.652568239480676\n",
      "model score: 0.8228858517111262\n"
     ]
    }
   ],
   "source": [
    "# getting the scores after applying StandardScaler\n",
    "accuracy(df_std)"
   ]
  },
  {
   "cell_type": "code",
   "execution_count": 36,
   "id": "1b6575de",
   "metadata": {},
   "outputs": [],
   "source": [
    "# saving df_std  - the one obtained after StandardScaler on my PC as data3.csv, since using it I obtain the best results\n",
    "# and is morre suitable for my dataset\n",
    "df_std.to_csv('data3.csv', index = False)"
   ]
  },
  {
   "cell_type": "code",
   "execution_count": null,
   "id": "847fe1ac",
   "metadata": {},
   "outputs": [],
   "source": []
  }
 ],
 "metadata": {
  "kernelspec": {
   "display_name": "Python 3 (ipykernel)",
   "language": "python",
   "name": "python3"
  },
  "language_info": {
   "codemirror_mode": {
    "name": "ipython",
    "version": 3
   },
   "file_extension": ".py",
   "mimetype": "text/x-python",
   "name": "python",
   "nbconvert_exporter": "python",
   "pygments_lexer": "ipython3",
   "version": "3.8.0"
  }
 },
 "nbformat": 4,
 "nbformat_minor": 5
}
