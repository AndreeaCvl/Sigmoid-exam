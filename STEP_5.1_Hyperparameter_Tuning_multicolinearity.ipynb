{
 "cells": [
  {
   "cell_type": "markdown",
   "id": "1f605848",
   "metadata": {},
   "source": [
    "# Hyperparameter Tuning"
   ]
  },
  {
   "cell_type": "code",
   "execution_count": 1,
   "id": "cbd30792",
   "metadata": {},
   "outputs": [],
   "source": [
    "import pandas as pd\n",
    "import numpy as np\n",
    "from sklearn.model_selection import train_test_split\n",
    "from sklearn.tree import DecisionTreeRegressor\n",
    "from sklearn.metrics import mean_squared_error, mean_absolute_error, r2_score\n",
    "import matplotlib.pyplot as plt\n",
    "import seaborn as sns\n",
    "from sklearn.neighbors import KNeighborsRegressor\n",
    "from sklearn.tree import DecisionTreeRegressor\n",
    "from sklearn.ensemble import RandomForestRegressor"
   ]
  },
  {
   "cell_type": "code",
   "execution_count": 2,
   "id": "e55d12fb",
   "metadata": {},
   "outputs": [],
   "source": [
    "df = pd.read_csv('data4.csv')"
   ]
  },
  {
   "cell_type": "code",
   "execution_count": 3,
   "id": "2d8c2e2b",
   "metadata": {},
   "outputs": [],
   "source": [
    "# splitting the data into train and test\n",
    "X = df.drop(['Life expectancy'], axis=1).values\n",
    "y = df['Life expectancy'].values \n",
    "X_train, X_test, y_train, y_test = train_test_split(X, y, random_state = 42)"
   ]
  },
  {
   "cell_type": "code",
   "execution_count": 4,
   "id": "bf94dab5",
   "metadata": {},
   "outputs": [],
   "source": [
    "# function to compute the score for each of the models\n",
    "def get_score(model, X_train, X_test, y_train, y_test):\n",
    "    model.fit(X_train, y_train)    \n",
    "    y_pred= model.predict(X_test)\n",
    "\n",
    "    # printing the errors to compare the results\n",
    "    mae_sklearn = mean_absolute_error(y_pred, y_test)\n",
    "    mse_sklearn = mean_squared_error(y_pred, y_test)\n",
    "\n",
    "    # print errors\n",
    "    print(\"mean absolute error: {}\".format(mae_sklearn))\n",
    "    print(\"mean squared error: {}\".format(mse_sklearn))\n",
    "\n",
    "    # model score\n",
    "    score = r2_score(y_test, y_pred)\n",
    "    print(\"model score: {}\".format(score))"
   ]
  },
  {
   "cell_type": "markdown",
   "id": "355c6b32",
   "metadata": {},
   "source": [
    "I will try to use different algorithms in order to find the most suitable model"
   ]
  },
  {
   "cell_type": "markdown",
   "id": "f54b670c",
   "metadata": {},
   "source": [
    "## KNeighborsRegressor"
   ]
  },
  {
   "cell_type": "markdown",
   "id": "4b8bf8dc",
   "metadata": {},
   "source": [
    "Plotting the errors for different numbers of the parameter n_neighbors in order to select the best fit"
   ]
  },
  {
   "cell_type": "code",
   "execution_count": 5,
   "id": "b8fbd2fb",
   "metadata": {
    "scrolled": true
   },
   "outputs": [
    {
     "data": {
      "text/plain": [
       "Text(0, 0.5, 'error')"
      ]
     },
     "execution_count": 5,
     "metadata": {},
     "output_type": "execute_result"
    },
    {
     "data": {
      "image/png": "[encoded data removed]",
      "text/plain": [
       "<Figure size 432x288 with 1 Axes>"
      ]
     },
     "metadata": {
      "needs_background": "light"
     },
     "output_type": "display_data"
    }
   ],
   "source": [
    "# initializing an array filled with 0s in which we will save errors\n",
    "errors = np.zeros(20)\n",
    "\n",
    "#initializing an array with the number of neighbors (range 1 - 10)\n",
    "neigh_nr = np.arange(1,21)\n",
    "\n",
    "# computing model accuracy for each of the values in neigh_nr\n",
    "for i in range(0, 20):\n",
    "    neigh = KNeighborsRegressor(n_neighbors = i+1)\n",
    "    neigh.fit(X_train, y_train)\n",
    "    neigh_pred = neigh.predict(X_test)\n",
    "    errors[i] = mean_squared_error(y_test, neigh_pred)\n",
    "    \n",
    "# plotting the model accurac in accordance with the number of neighbors\n",
    "plot = plt.plot(neigh_nr, errors)\n",
    "plt.title(\"Error vs number of neighbors\")\n",
    "plt.xlabel(\"Nr of neighbors\")\n",
    "plt.ylabel(\"error\")    "
   ]
  },
  {
   "cell_type": "markdown",
   "id": "d2700b73",
   "metadata": {},
   "source": [
    "I got the lowest error when n_neighbors = 3. Let's print the scores for this model:"
   ]
  },
  {
   "cell_type": "code",
   "execution_count": 6,
   "id": "ca8c6650",
   "metadata": {},
   "outputs": [
    {
     "name": "stdout",
     "output_type": "stream",
     "text": [
      "mean absolute error: 1.5643446852425178\n",
      "mean squared error: 6.118508771929825\n",
      "model score: 0.9143514226181456\n"
     ]
    }
   ],
   "source": [
    "# printing the score for the knn Regressor model\n",
    "knr = KNeighborsRegressor(n_neighbors = 3)\n",
    "get_score(knr, X_train, X_test, y_train, y_test)"
   ]
  },
  {
   "cell_type": "markdown",
   "id": "190bbac1",
   "metadata": {},
   "source": [
    "## DecisionTreeRegressor"
   ]
  },
  {
   "cell_type": "markdown",
   "id": "799a3814",
   "metadata": {},
   "source": [
    "Plotting the errors for combinations between defferent kernel and max_depth values"
   ]
  },
  {
   "cell_type": "code",
   "execution_count": 7,
   "id": "ddc0fd7e",
   "metadata": {
    "scrolled": true
   },
   "outputs": [
    {
     "data": {
      "text/plain": [
       "[Text(0.5, 285.0, 'max_depht'),\n",
       " Text(69.0, 0.5, 'max_features'),\n",
       " Text(0.5, 1.0, \"DecisionTreeRegresor, criterion = 'friedman_mse'\")]"
      ]
     },
     "execution_count": 7,
     "metadata": {},
     "output_type": "execute_result"
    },
    {
     "data": {
      "image/png": "[encoded data removed]",
      "text/plain": [
       "<Figure size 720x720 with 1 Axes>"
      ]
     },
     "metadata": {
      "needs_background": "light"
     },
     "output_type": "display_data"
    }
   ],
   "source": [
    "# initializng 2 arrays with hyperparameters\n",
    "depths = np.arange(3, 13)\n",
    "features = ['auto', 'sqrt']\n",
    "\n",
    "# creating a 2d array filled with 0s. Will be filled with the mse values for each combination of hyperparameters\n",
    "error = np.zeros([2, 10])\n",
    "\n",
    "# itterating trough every possible combination of parameters\n",
    "for i in range(len(features)):\n",
    "    for j in range(len(depths)):\n",
    "        clf = DecisionTreeRegressor(max_depth = depths[j], max_features = features[i], criterion = 'friedman_mse', random_state = 42)\n",
    "        clf.fit(X_train, y_train)\n",
    "        pred = clf.predict(X_test)\n",
    "        error[i][j] = mean_squared_error(y_test, pred)\n",
    "# since 'None' is not a string in the array of feaures above, we save here the labels for the x-axis\n",
    "x_axis_labels = ['auto', 'sqrt']\n",
    "\n",
    "# plotting the heatmap with the accuracy for each combination of parameters\n",
    "plt.figure(figsize = (10,10))\n",
    "h = sns.heatmap(error, xticklabels=depths, yticklabels=x_axis_labels, annot=True, cbar=False, square=True, cmap='Blues')\n",
    "h.set(xlabel='max_depht', ylabel='max_features', title = \"DecisionTreeRegresor, criterion = 'friedman_mse'\")"
   ]
  },
  {
   "cell_type": "markdown",
   "id": "77b70676",
   "metadata": {},
   "source": [
    "The lowest error was obtained when max_features = auto (which actually means that max_features=n_features) and max_depth = 8."
   ]
  },
  {
   "cell_type": "code",
   "execution_count": 8,
   "id": "9b45d56b",
   "metadata": {},
   "outputs": [
    {
     "name": "stdout",
     "output_type": "stream",
     "text": [
      "mean absolute error: 1.7379945245637562\n",
      "mean squared error: 7.144609423494994\n",
      "model score: 0.8999877820101039\n"
     ]
    }
   ],
   "source": [
    "# printing the score for the DecisionTreeRegressor model\n",
    "dtr = DecisionTreeRegressor(max_depth = 8, max_features = 'auto', criterion = 'friedman_mse', random_state = 42)\n",
    "get_score(dtr, X_train, X_test, y_train, y_test)"
   ]
  },
  {
   "cell_type": "markdown",
   "id": "28602344",
   "metadata": {},
   "source": [
    "## RandomForestRegressor"
   ]
  },
  {
   "cell_type": "markdown",
   "id": "c2b7ebbf",
   "metadata": {},
   "source": [
    "plotting the errors obtained for combinations bwtween different criterion and n_estimators values"
   ]
  },
  {
   "cell_type": "code",
   "execution_count": 9,
   "id": "d4eb54fe",
   "metadata": {
    "scrolled": false
   },
   "outputs": [
    {
     "data": {
      "image/png": "[encoded data removed]",
      "text/plain": [
       "<Figure size 432x288 with 1 Axes>"
      ]
     },
     "metadata": {
      "needs_background": "light"
     },
     "output_type": "display_data"
    }
   ],
   "source": [
    "# initializng 2 arrays with hyperparameters\n",
    "crit = [\"squared_error\", \"absolute_error\"]\n",
    "estimators = np.arange(40, 160, step = 20)\n",
    "\n",
    "# itterating trough every possible combination of hyperparameters from the arrays above\n",
    "for c in crit:\n",
    "    errors = np.zeros(6)\n",
    "    i = 0\n",
    "    for e in estimators:\n",
    "        clf = RandomForestRegressor(criterion = c, n_estimators = e, random_state = 42)\n",
    "        clf.fit(X_train, y_train)\n",
    "        pred = clf.predict(X_test)\n",
    "        errors[i] = mean_squared_error(y_test, pred)\n",
    "        i += 1\n",
    "        \n",
    "    # plotting the line for criterion c\n",
    "    plt.plot(estimators, errors, label = c)\n",
    "plt.legend()\n",
    "plt.show()"
   ]
  },
  {
   "cell_type": "markdown",
   "id": "93628490",
   "metadata": {},
   "source": [
    "The lowest error was obtained when criterion = 'squared_error' and n_estimators = 60."
   ]
  },
  {
   "cell_type": "code",
   "execution_count": 10,
   "id": "c1ed8be1",
   "metadata": {
    "scrolled": true
   },
   "outputs": [
    {
     "name": "stdout",
     "output_type": "stream",
     "text": [
      "mean absolute error: 1.153284313725491\n",
      "mean squared error: 3.8445214869281035\n",
      "model score: 0.9461833253259344\n"
     ]
    }
   ],
   "source": [
    "# printing the score for the RandomForestRegressor model\n",
    "rfr = RandomForestRegressor(criterion = 'squared_error', n_estimators = 60, random_state = 42)\n",
    "get_score(rfr, X_train, X_test, y_train, y_test)"
   ]
  },
  {
   "cell_type": "markdown",
   "id": "cc529f64",
   "metadata": {},
   "source": [
    "## SVR"
   ]
  },
  {
   "cell_type": "code",
   "execution_count": 11,
   "id": "096460fe",
   "metadata": {},
   "outputs": [],
   "source": [
    "# imports\n",
    "from sklearn.svm import SVR\n",
    "from sklearn.model_selection import GridSearchCV"
   ]
  },
  {
   "cell_type": "code",
   "execution_count": 12,
   "id": "ca698e27",
   "metadata": {},
   "outputs": [],
   "source": [
    "# choosing the values of the hyperparameters\n",
    "tuned_parameters = {\n",
    "    'epsilon' : [0.1, 0.2, 0.3, 0.4, 0.5],\n",
    "    'C' : [1, 10, 100, 1000]\n",
    "}"
   ]
  },
  {
   "cell_type": "code",
   "execution_count": 13,
   "id": "ae97c723",
   "metadata": {},
   "outputs": [
    {
     "data": {
      "text/plain": [
       "GridSearchCV(estimator=SVR(),\n",
       "             param_grid={'C': [1, 10, 100, 1000],\n",
       "                         'epsilon': [0.1, 0.2, 0.3, 0.4, 0.5]})"
      ]
     },
     "execution_count": 13,
     "metadata": {},
     "output_type": "execute_result"
    }
   ],
   "source": [
    "# initializing GridSearchCV for the SVC algorithm, using the combinations of parameters above\n",
    "clf = GridSearchCV(SVR(), tuned_parameters)\n",
    "# fitting the model\n",
    "clf.fit(X_train, y_train)"
   ]
  },
  {
   "cell_type": "code",
   "execution_count": 14,
   "id": "3e8d773d",
   "metadata": {},
   "outputs": [
    {
     "data": {
      "text/plain": [
       "{'C': 100, 'epsilon': 0.4}"
      ]
     },
     "execution_count": 14,
     "metadata": {},
     "output_type": "execute_result"
    }
   ],
   "source": [
    "# looking at the best found parameters\n",
    "clf.best_params_"
   ]
  },
  {
   "cell_type": "code",
   "execution_count": 15,
   "id": "ef99439b",
   "metadata": {},
   "outputs": [
    {
     "name": "stdout",
     "output_type": "stream",
     "text": [
      "mean absolute error: 1.3956847666720549\n",
      "mean squared error: 5.250920838631922\n",
      "model score: 0.9264961583716569\n"
     ]
    }
   ],
   "source": [
    "# initializing the model with the best found parameters and printing its errors and score\n",
    "svr = SVR(C = 100, epsilon = 0.4)\n",
    "svr.fit(X_train, y_train)\n",
    "get_score(svr, X_train, X_test, y_train, y_test)"
   ]
  },
  {
   "cell_type": "markdown",
   "id": "f8974004",
   "metadata": {},
   "source": [
    "## Generalized Results"
   ]
  },
  {
   "cell_type": "markdown",
   "id": "38d14e32",
   "metadata": {},
   "source": [
    "<b>KNeighborsRegressor</b><br>\n",
    "mean absolute error: 1.5643446852425178<br>\n",
    "mean squared error: 6.118508771929825<br>\n",
    "model score: 0.9143514226181456<br>\n",
    "\n",
    "<b>DecisionTreeRegressor</b><br>\n",
    "mean absolute error: 1.7379945245637562<br>\n",
    "mean squared error: 7.144609423494994<br>\n",
    "model score: 0.8999877820101039<br>\n",
    "\n",
    "<b>RandomForestRegressor</b><br>\n",
    "mean absolute error: 1.153284313725491<br>\n",
    "mean squared error: 3.8445214869281035<br>\n",
    "model score: 0.9461833253259344<br>\n",
    "\n",
    "<b>SVR</b><br>\n",
    "mean absolute error: 1.3956847666720549<br>\n",
    "mean squared error: 5.250920838631922<br>\n",
    "model score: 0.9264961583716569<br>"
   ]
  },
  {
   "cell_type": "markdown",
   "id": "8ceacd4d",
   "metadata": {},
   "source": [
    "#### Best results:"
   ]
  },
  {
   "cell_type": "markdown",
   "id": "ba477344",
   "metadata": {},
   "source": [
    "1st - RandomForestRegressor <br>\n",
    "2nd - SVR<br>\n",
    "3rd - KNeighborsRegressor<br>\n",
    "4th - DecisionTreeRegressor<br>"
   ]
  },
  {
   "cell_type": "code",
   "execution_count": null,
   "id": "5db91804",
   "metadata": {},
   "outputs": [],
   "source": []
  }
 ],
 "metadata": {
  "kernelspec": {
   "display_name": "Python 3 (ipykernel)",
   "language": "python",
   "name": "python3"
  },
  "language_info": {
   "codemirror_mode": {
    "name": "ipython",
    "version": 3
   },
   "file_extension": ".py",
   "mimetype": "text/x-python",
   "name": "python",
   "nbconvert_exporter": "python",
   "pygments_lexer": "ipython3",
   "version": "3.8.0"
  }
 },
 "nbformat": 4,
 "nbformat_minor": 5
}
